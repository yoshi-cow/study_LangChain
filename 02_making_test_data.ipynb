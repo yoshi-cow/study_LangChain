{
 "cells": [
  {
   "cell_type": "markdown",
   "id": "cd110005-ee45-4d9f-a0e7-516eab822046",
   "metadata": {},
   "source": [
    "# RAG評価用データセットの生成\n",
    "* Ragasでは、評価用のデータセットを生成できる\n",
    "* 以下、作成方法\n",
    "* 書籍のバージョンではデータセットに設定するキー名が旧版のためエラーがでるので注意"
   ]
  },
  {
   "cell_type": "code",
   "execution_count": null,
   "id": "19922886-0a07-4551-a08e-4b72633515bb",
   "metadata": {},
   "outputs": [],
   "source": [
    "# !pip install numpy==1.26.4"
   ]
  },
  {
   "cell_type": "code",
   "execution_count": null,
   "id": "4459bb0f-21a3-4cba-9b4f-60c1af964a09",
   "metadata": {},
   "outputs": [],
   "source": [
    "# !pip install langchain-core==0.2.30 langchain-openai==0.1.21 \\\n",
    "#     langchain-community==0.2.12 GitPython==3.1.43 \\\n",
    "#     langchain-chroma==0.1.2 chromadb==0.5.3 \\\n",
    "#     ragas==0.1.14 nest-asyncio==1.6.0 pydantic==2.10.6"
   ]
  },
  {
   "cell_type": "code",
   "execution_count": null,
   "id": "b10e61d9-3dc9-4cf6-beb1-68d53e24a134",
   "metadata": {},
   "outputs": [],
   "source": [
    "# # 環境変数(.env)\n",
    "# OPENAI_API_KEY=\n",
    "# LANGCHAIN_API_KEY=\n",
    "# LANGCHAIN_PROJECT="
   ]
  },
  {
   "cell_type": "code",
   "execution_count": null,
   "id": "0bf3ab63-e77d-4d79-ab80-a2b04ad99388",
   "metadata": {},
   "outputs": [],
   "source": [
    "import os\n",
    "import nest_asyncio\n",
    "from ragas.testset.generator import TestsetGenerator\n",
    "from ragas.testset.evolutions import simple, reasoning, multi_context\n",
    "from langchain_openai import ChatOpenAI, OpenAIEmbeddings"
   ]
  },
  {
   "cell_type": "code",
   "execution_count": null,
   "id": "cfb590f4-ee83-4173-a40a-43733a1c380c",
   "metadata": {},
   "outputs": [],
   "source": [
    "os.environ[\"OPENAI_API_KEY\"] = OPENAI_API_KEY\n",
    "os.environ[\"LANGCHAIN_TRACING_V2\"] = \"true\"\n",
    "os.environ[\"LANGCHAIN_ENDPOINT\"] = \"https://api.smith.langchain.com\"\n",
    "os.environ[\"LANGCHAIN_API_KEY\"] = LANGCHAIN_API_KEY\n",
    "os.environ[\"LANGCHAIN_PROJECT\"] = LANGCHAIN_PROJECT"
   ]
  },
  {
   "cell_type": "code",
   "execution_count": null,
   "id": "eec3abb9-b7ee-4659-b859-555926bb2466",
   "metadata": {},
   "outputs": [],
   "source": [
    "### ベクトル検索対象データ用意\n",
    "from langchain_community.document_loaders import GitLoader\n",
    "\n",
    "\n",
    "def file_filter(file_path: str) -> bool:\n",
    "    return file_path.endswith(\".mdx\")\n",
    "\n",
    "\n",
    "loader = GitLoader(\n",
    "    clone_url=\"https://github.com/langchain-ai/langchain\",\n",
    "    repo_path=\"./langchain\",\n",
    "    branch=\"langchain==0.2.13\",\n",
    "    file_filter=file_filter,\n",
    ")\n",
    "\n",
    "documents = loader.load()\n",
    "print(len(documents))"
   ]
  },
  {
   "cell_type": "markdown",
   "id": "e7cf2276-a0d4-48ac-90e9-d1213ce975a3",
   "metadata": {},
   "source": [
    "## * Ragasで合成データ作成"
   ]
  },
  {
   "cell_type": "code",
   "execution_count": null,
   "id": "f2fd2b5f-21ff-4271-9eaf-65f221d6e5b3",
   "metadata": {},
   "outputs": [],
   "source": [
    "for document in documents:\n",
    "    document.metadata[\"filename\"] = document.metadata[\"source\"]\n",
    "\n",
    "\n",
    "nest_asyncio.apply()\n",
    "\n",
    "generator = TestsetGenerator.from_langchain(\n",
    "    generator_llm=ChatOpenAI(model=\"gpt-4o-mini\"),\n",
    "    critic_llm=ChatOpenAI(model=\"gpt-4o-mini\"),\n",
    "    embeddings=OpenAIEmbeddings(),\n",
    ")\n",
    "\n",
    "testset = generator.generate_with_langchain_docs(\n",
    "    documents,\n",
    "    test_size=4,\n",
    "    distributions={simple: 0.5, reasoning: 0.25, multi_context: 0.25},\n",
    ")\n",
    "\n",
    "testset.to_pandas()"
   ]
  },
  {
   "cell_type": "markdown",
   "id": "a5b3fc29-f1ca-448e-9507-58e45b5b6c9d",
   "metadata": {},
   "source": [
    "### * LangSmithのDataSet作成\n",
    "* LangSmithには、評価用の「Dataset」を管理する機能がある。\n",
    "\n",
    "#### 以下は、LangSmithでデータセットを管理する「Dataset」オブジェクトを作成するコード"
   ]
  },
  {
   "cell_type": "code",
   "execution_count": null,
   "id": "d73ef6af-92c4-44dd-b360-a6339b7337a4",
   "metadata": {},
   "outputs": [],
   "source": [
    "from langsmith import Client\n",
    "\n",
    "dataset_name = \"test-dataset-2\"\n",
    "\n",
    "client = Client()\n",
    "\n",
    "if client.has_dataset(dataset_name=dataset_name):\n",
    "    client.delete_dataset(dataset_name=dataset_name)\n",
    "\n",
    "dataset = client.create_dataset(\n",
    "    dataset_name=dataset_name,\n",
    ")"
   ]
  },
  {
   "cell_type": "markdown",
   "id": "02ab9602-9123-41ff-b50a-ad7d229c1f3a",
   "metadata": {},
   "source": [
    "上記実行後、LangSmithの画面で、『Datasets & Experiments』を選ぶと\"test-dataset\"というデータセットができる。ここに、Ragasで生成した合成テストデータを保存する\n",
    "\n",
    "### * 合成テストデータの保存\n",
    "* まずは、生成したデータセットをLangSmithのDatasetに保存する形式に変換"
   ]
  },
  {
   "cell_type": "code",
   "execution_count": null,
   "id": "5e471abf-547c-47b6-bd28-7c8a5858e8de",
   "metadata": {},
   "outputs": [],
   "source": [
    "inputs = []\n",
    "outputs = []\n",
    "metadatas = []\n",
    "\n",
    "for testset_record in testset.test_data:\n",
    "    inputs.append(\n",
    "        {\n",
    "            # \"question\": testset_record.question, # 古いバージョン\n",
    "            \"user_input\": testset_record.question,\n",
    "        }\n",
    "    )\n",
    "    outputs.append(\n",
    "        {\n",
    "            # \"contexts\": testset_record.contexts,\n",
    "            # \"ground_truth\": testset_record.ground_truth,\n",
    "            \"retrieved_contexts\": testset_record.contexts,      # ← contexts → retrieved_contexts\n",
    "            \"response\": testset_record.ground_truth,            # ← ground_truth → response\n",
    "            \"reference\": testset_record.ground_truth,           # ← 必要に応じて reference も登録\n",
    "        }\n",
    "    )\n",
    "    metadatas.append(\n",
    "        {\n",
    "            \"source\": testset_record.metadata[0][\"source\"],\n",
    "            \"evolution_type\": testset_record.evolution_type,\n",
    "        }\n",
    "    )"
   ]
  },
  {
   "cell_type": "markdown",
   "id": "1752aec5-73e2-4b5c-9be9-35c4b4743336",
   "metadata": {},
   "source": [
    "### * LangSmithのクライアントを使用して、DatasetのIDを指定しデータを保存\n",
    "* LangSmithでは、Datasetに保存するデータの１件１件を「Example」と呼ぶ。\n"
   ]
  },
  {
   "cell_type": "code",
   "execution_count": null,
   "id": "4f4021af-0d1e-485f-a666-bbd74b80eb4f",
   "metadata": {},
   "outputs": [],
   "source": [
    "client.create_examples(\n",
    "    inputs=inputs,\n",
    "    outputs=outputs,\n",
    "    metadatas=metadatas,\n",
    "    dataset_id=dataset.id,\n",
    ")"
   ]
  },
  {
   "cell_type": "markdown",
   "id": "4bdb427d-2be7-4d8d-93e2-14ac2edb9682",
   "metadata": {},
   "source": [
    "* これにより、web画面で確認したDataset（\"test-dataset\")を選ぶと、登録されているのがわかる"
   ]
  }
 ],
 "metadata": {
  "kernelspec": {
   "display_name": "stud_rag",
   "language": "python",
   "name": "stud_rag"
  },
  "language_info": {
   "codemirror_mode": {
    "name": "ipython",
    "version": 3
   },
   "file_extension": ".py",
   "mimetype": "text/x-python",
   "name": "python",
   "nbconvert_exporter": "python",
   "pygments_lexer": "ipython3",
   "version": "3.11.9"
  }
 },
 "nbformat": 4,
 "nbformat_minor": 5
}
